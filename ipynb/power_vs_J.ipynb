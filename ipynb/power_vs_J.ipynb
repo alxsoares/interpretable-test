{
 "cells": [
  {
   "cell_type": "markdown",
   "metadata": {},
   "source": [
    "This notebook investigates the test power vs. the number of test locations J in an incremental way. Specifically, we conjectured that the test power using $\\mathcal{T}$, the set of $J$ locations should not be higher than the test power obtained by using $\\mathcal{T} \\cup \\{t_{J+1}\\}$"
   ]
  },
  {
   "cell_type": "code",
   "execution_count": 1,
   "metadata": {
    "collapsed": false
   },
   "outputs": [],
   "source": [
    "%load_ext autoreload\n",
    "%autoreload 2\n",
    "%matplotlib inline\n",
    "#%config InlineBackend.figure_format = 'svg'\n",
    "#%config InlineBackend.figure_format = 'pdf'\n",
    "import freqopttest.util as util\n",
    "import freqopttest.data as data\n",
    "import freqopttest.ex.exglobal as exglo\n",
    "import freqopttest.kernel as kernel\n",
    "import freqopttest.tst as tst\n",
    "import freqopttest.glo as glo\n",
    "import freqopttest.plot as plot\n",
    "import matplotlib.pyplot as plt\n",
    "import numpy as np\n",
    "import scipy.stats as stats\n",
    "import sys"
   ]
  },
  {
   "cell_type": "code",
   "execution_count": 2,
   "metadata": {
    "collapsed": true
   },
   "outputs": [],
   "source": [
    "# font options\n",
    "font = {\n",
    "    #'family' : 'normal',\n",
    "    #'weight' : 'bold',\n",
    "    'size'   : 18\n",
    "}\n",
    "\n",
    "plt.rc('font', **font)\n",
    "plt.rc('lines', linewidth=2)"
   ]
  },
  {
   "cell_type": "code",
   "execution_count": null,
   "metadata": {
    "collapsed": false
   },
   "outputs": [],
   "source": [
    "# sample source \n",
    "n = 500\n",
    "dim = 30\n",
    "seed = 13\n",
    "#ss = data.SSGaussMeanDiff(dim, my=0.5)\n",
    "ss = data.SSGaussVarDiff(dim)\n",
    "#ss = data.SSSameGauss(dim)\n",
    "#ss = data.SSBlobs()\n",
    "dim = ss.dim()\n",
    "tst_data = ss.sample(n, seed=seed)\n",
    "tr, te = tst_data.split_tr_te(tr_proportion=0.5, seed=seed+82)\n",
    "\n",
    "J = 2\n",
    "alpha = 0.01\n",
    "T = tst.MeanEmbeddingTest.init_locs_2randn(tr, J, seed=seed+1)\n",
    "#T = np.random.randn(J, dim)"
   ]
  },
  {
   "cell_type": "code",
   "execution_count": null,
   "metadata": {
    "collapsed": false,
    "scrolled": true
   },
   "outputs": [],
   "source": [
    "med = util.meddistance(tr.stack_xy(), 800)\n",
    "list_gwidth = np.hstack( ( (med**2) *(2.0**np.linspace(-5, 5, 30) ) ) )\n",
    "list_gwidth.sort()\n",
    "besti, powers = tst.MeanEmbeddingTest.grid_search_gwidth(tr, T, list_gwidth, alpha)\n"
   ]
  },
  {
   "cell_type": "code",
   "execution_count": null,
   "metadata": {
    "collapsed": false,
    "scrolled": true
   },
   "outputs": [],
   "source": [
    "# test with the best Gaussian with \n",
    "best_width = list_gwidth[besti]\n",
    "met_grid = tst.MeanEmbeddingTest(T, best_width, alpha)\n",
    "met_grid.perform_test(te)"
   ]
  },
  {
   "cell_type": "markdown",
   "metadata": {},
   "source": [
    "## $\\hat{\\lambda}_n$ vs $J$"
   ]
  },
  {
   "cell_type": "code",
   "execution_count": null,
   "metadata": {
    "collapsed": false
   },
   "outputs": [],
   "source": [
    "def draw_t(tst_data, seed=None):\n",
    "    # Fit one Gaussian to the X,Y data. \n",
    "    if seed is not None:\n",
    "        rand_state = np.random.get_state()\n",
    "        np.random.seed(seed)\n",
    "\n",
    "    xy = tst_data.stack_xy()\n",
    "    # fit a Gaussian to each of X, Y\n",
    "    m = np.mean(xy, 0)\n",
    "    cov = np.cov(xy.T)\n",
    "    t = np.random.multivariate_normal(m, cov, 1)\n",
    "    \n",
    "    # reset the seed back\n",
    "    if seed is not None:\n",
    "        np.random.set_state(rand_state)\n",
    "    return t\n"
   ]
  },
  {
   "cell_type": "code",
   "execution_count": null,
   "metadata": {
    "collapsed": false
   },
   "outputs": [],
   "source": [
    "def simulate_stats_trajectory(T):\n",
    "    Tn = T\n",
    "    # add one new test location at a time.\n",
    "    trials = 30\n",
    "    test_stats = np.zeros(trials)\n",
    "    for i in range(trials):\n",
    "        # draw new location\n",
    "        t = draw_t(tr)\n",
    "        Tn = np.vstack((Tn, t))\n",
    "        met = tst.MeanEmbeddingTest(Tn, best_width, alpha)\n",
    "        tresult = met.perform_test(te)\n",
    "        test_stats[i] = tresult['test_stat']\n",
    "    return test_stats, Tn\n",
    "\n",
    "for rep in range(6):\n",
    "    test_stats, Tn = simulate_stats_trajectory(T)\n",
    "    plt.plot(np.arange(len(T), len(Tn)), test_stats)\n",
    "    print('stats increasing: %s', np.all(np.diff(test_stats)>=0) )\n",
    "plt.xlabel('$J$')\n",
    "plt.title('$\\hat{\\lambda}_n$ as J increases')"
   ]
  },
  {
   "cell_type": "markdown",
   "metadata": {},
   "source": [
    "## p-values vs J"
   ]
  },
  {
   "cell_type": "code",
   "execution_count": null,
   "metadata": {
    "collapsed": false
   },
   "outputs": [],
   "source": [
    "# plot p-value. \n",
    "for r in range(6):\n",
    "    test_stats, Tn = simulate_stats_trajectory(T)\n",
    "    Js = np.arange(len(T), len(Tn))\n",
    "    pvals = [stats.chi2.sf(s, df=J) for s, J in zip(test_stats, Js)]\n",
    "    plt.plot(Js, pvals)\n",
    "plt.xlabel('$J$')\n",
    "plt.title('p-values as J increases')"
   ]
  },
  {
   "cell_type": "markdown",
   "metadata": {
    "collapsed": true
   },
   "source": [
    "## test threshold vs J"
   ]
  },
  {
   "cell_type": "code",
   "execution_count": null,
   "metadata": {
    "collapsed": false
   },
   "outputs": [],
   "source": [
    "Js = range(1, 30)\n",
    "alphas = [1e-6, 0.005, 0.01, 0.05, 0.1]\n",
    "\n",
    "\n",
    "for i, al in enumerate(alphas):\n",
    "    threshs = [stats.chi2.isf(al, df=J) for J in Js ]        \n",
    "    plt.plot(Js, threshs, '-', label='$\\\\alpha = %.3g$'%(al) )\n",
    "plt.xlabel('J')\n",
    "plt.ylabel('$T_\\\\alpha$')\n",
    "plt.legend(loc='best')"
   ]
  },
  {
   "cell_type": "markdown",
   "metadata": {
    "collapsed": true
   },
   "source": [
    "The test threshold $T_\\alpha$ seems to increase approximately linearly with respect to $J$ for any value of $\\alpha$. The slope is roughly constant for all $\\alpha$."
   ]
  },
  {
   "cell_type": "markdown",
   "metadata": {
    "collapsed": true
   },
   "source": [
    "# Test power vs. J: 2d Gaussian mean diff problem"
   ]
  },
  {
   "cell_type": "markdown",
   "metadata": {},
   "source": [
    "For this example, we will consider a 2d Gaussian example where both P, Q are Gaussian with unit variance. P has mean [0, 0] and Q has mean [0, 1]. We will consider two ways to add test locations. Firstly we will add test locations in regions which reveal the difference of P, Q. Then, we will add test locations in uninformative regions to show that more locations dot necessarily increase the test power. "
   ]
  },
  {
   "cell_type": "code",
   "execution_count": 3,
   "metadata": {
    "collapsed": false
   },
   "outputs": [],
   "source": [
    "# sample source \n",
    "n = 1000\n",
    "d = 2\n",
    "seed = 13\n",
    "np.random.seed(seed)\n",
    "ss = data.SSGaussMeanDiff(d, my=1.0)\n",
    "\n",
    "J = 2\n",
    "alpha = 0.01"
   ]
  },
  {
   "cell_type": "code",
   "execution_count": 4,
   "metadata": {
    "collapsed": true
   },
   "outputs": [],
   "source": [
    "def eval_test_locs(T, ss, n, rep, seed_start=1, alpha=0.01):\n",
    "    \"\"\"Return a empirical test power\"\"\"\n",
    "    rejs = np.zeros(rep)\n",
    "    dat = ss.sample(1000, seed=298)\n",
    "    gwidth2 = util.meddistance(dat.stack_xy())**2\n",
    "    for r in range(rep):\n",
    "        te = ss.sample(n, seed=seed_start+r)\n",
    "        met = tst.MeanEmbeddingTest(T, gwidth2, alpha)\n",
    "        result = met.perform_test(te)\n",
    "        h0_rejected = result['h0_rejected']\n",
    "        rejs[r] = h0_rejected\n",
    "        print 'rep %d: rej: %s'%(r, h0_rejected)\n",
    "    power = np.mean(rejs)\n",
    "    return power\n",
    "    "
   ]
  },
  {
   "cell_type": "code",
   "execution_count": 15,
   "metadata": {
    "collapsed": false
   },
   "outputs": [],
   "source": [
    "# define a set of locations\n",
    "#mid = np.zeros(d)\n",
    "\n",
    "#T_1 = mid[np.newaxis, :]\n",
    "#T_2 = np.vstack((T_1, np.hstack((np.zeros(d-1), 20)) ))\n",
    "#T_3 = np.vstack((T_2, np.hstack((np.zeros(d-1), 40)) ))\n",
    "\n",
    "T = np.random.randn(270, d)"
   ]
  },
  {
   "cell_type": "code",
   "execution_count": 16,
   "metadata": {
    "collapsed": false
   },
   "outputs": [
    {
     "name": "stdout",
     "output_type": "stream",
     "text": [
      "rep 0: rej: True\n",
      "rep 1: rej: True\n",
      "rep 2: rej: True\n",
      "rep 3: rej: True\n",
      "rep 4: rej: True\n",
      "rep 5: rej: True\n",
      "rep 6: rej: True\n",
      "rep 7: rej: True\n",
      "rep 8: rej: True\n",
      "rep 9: rej: True\n",
      "rep 10: rej: True\n",
      "rep 11: rej: True\n",
      "rep 12: rej: True\n",
      "rep 13: rej: True\n",
      "rep 14: rej: True\n"
     ]
    },
    {
     "ename": "KeyboardInterrupt",
     "evalue": "",
     "output_type": "error",
     "traceback": [
      "\u001b[1;31m---------------------------------------------------------------------------\u001b[0m",
      "\u001b[1;31mKeyboardInterrupt\u001b[0m                         Traceback (most recent call last)",
      "\u001b[1;32m<ipython-input-16-d0e7e28b4111>\u001b[0m in \u001b[0;36m<module>\u001b[1;34m()\u001b[0m\n\u001b[1;32m----> 1\u001b[1;33m \u001b[0meval_test_locs\u001b[0m\u001b[1;33m(\u001b[0m\u001b[0mT\u001b[0m\u001b[1;33m,\u001b[0m \u001b[0mss\u001b[0m\u001b[1;33m,\u001b[0m \u001b[0mn\u001b[0m\u001b[1;33m=\u001b[0m\u001b[0mn\u001b[0m\u001b[1;33m,\u001b[0m \u001b[0mrep\u001b[0m\u001b[1;33m=\u001b[0m\u001b[1;36m100\u001b[0m\u001b[1;33m,\u001b[0m \u001b[0mseed_start\u001b[0m\u001b[1;33m=\u001b[0m\u001b[1;36m1\u001b[0m\u001b[1;33m,\u001b[0m \u001b[0malpha\u001b[0m\u001b[1;33m=\u001b[0m\u001b[0malpha\u001b[0m\u001b[1;33m)\u001b[0m\u001b[1;33m\u001b[0m\u001b[0m\n\u001b[0m",
      "\u001b[1;32m<ipython-input-4-be6c7b05558f>\u001b[0m in \u001b[0;36meval_test_locs\u001b[1;34m(T, ss, n, rep, seed_start, alpha)\u001b[0m\n\u001b[0;32m      7\u001b[0m         \u001b[0mte\u001b[0m \u001b[1;33m=\u001b[0m \u001b[0mss\u001b[0m\u001b[1;33m.\u001b[0m\u001b[0msample\u001b[0m\u001b[1;33m(\u001b[0m\u001b[0mn\u001b[0m\u001b[1;33m,\u001b[0m \u001b[0mseed\u001b[0m\u001b[1;33m=\u001b[0m\u001b[0mseed_start\u001b[0m\u001b[1;33m+\u001b[0m\u001b[0mr\u001b[0m\u001b[1;33m)\u001b[0m\u001b[1;33m\u001b[0m\u001b[0m\n\u001b[0;32m      8\u001b[0m         \u001b[0mmet\u001b[0m \u001b[1;33m=\u001b[0m \u001b[0mtst\u001b[0m\u001b[1;33m.\u001b[0m\u001b[0mMeanEmbeddingTest\u001b[0m\u001b[1;33m(\u001b[0m\u001b[0mT\u001b[0m\u001b[1;33m,\u001b[0m \u001b[0mgwidth2\u001b[0m\u001b[1;33m,\u001b[0m \u001b[0malpha\u001b[0m\u001b[1;33m)\u001b[0m\u001b[1;33m\u001b[0m\u001b[0m\n\u001b[1;32m----> 9\u001b[1;33m         \u001b[0mresult\u001b[0m \u001b[1;33m=\u001b[0m \u001b[0mmet\u001b[0m\u001b[1;33m.\u001b[0m\u001b[0mperform_test\u001b[0m\u001b[1;33m(\u001b[0m\u001b[0mte\u001b[0m\u001b[1;33m)\u001b[0m\u001b[1;33m\u001b[0m\u001b[0m\n\u001b[0m\u001b[0;32m     10\u001b[0m         \u001b[0mh0_rejected\u001b[0m \u001b[1;33m=\u001b[0m \u001b[0mresult\u001b[0m\u001b[1;33m[\u001b[0m\u001b[1;34m'h0_rejected'\u001b[0m\u001b[1;33m]\u001b[0m\u001b[1;33m\u001b[0m\u001b[0m\n\u001b[0;32m     11\u001b[0m         \u001b[0mrejs\u001b[0m\u001b[1;33m[\u001b[0m\u001b[0mr\u001b[0m\u001b[1;33m]\u001b[0m \u001b[1;33m=\u001b[0m \u001b[0mh0_rejected\u001b[0m\u001b[1;33m\u001b[0m\u001b[0m\n",
      "\u001b[1;32m/nfs/nhome/live/wittawat/git/fotest/freqopttest/tst.pyc\u001b[0m in \u001b[0;36mperform_test\u001b[1;34m(self, tst_data)\u001b[0m\n\u001b[0;32m    875\u001b[0m \u001b[1;33m\u001b[0m\u001b[0m\n\u001b[0;32m    876\u001b[0m     \u001b[1;32mdef\u001b[0m \u001b[0mperform_test\u001b[0m\u001b[1;33m(\u001b[0m\u001b[0mself\u001b[0m\u001b[1;33m,\u001b[0m \u001b[0mtst_data\u001b[0m\u001b[1;33m)\u001b[0m\u001b[1;33m:\u001b[0m\u001b[1;33m\u001b[0m\u001b[0m\n\u001b[1;32m--> 877\u001b[1;33m         \u001b[0mstat\u001b[0m \u001b[1;33m=\u001b[0m \u001b[0mself\u001b[0m\u001b[1;33m.\u001b[0m\u001b[0mcompute_stat\u001b[0m\u001b[1;33m(\u001b[0m\u001b[0mtst_data\u001b[0m\u001b[1;33m)\u001b[0m\u001b[1;33m\u001b[0m\u001b[0m\n\u001b[0m\u001b[0;32m    878\u001b[0m         \u001b[1;31m#print('stat: %.3g'%stat)\u001b[0m\u001b[1;33m\u001b[0m\u001b[1;33m\u001b[0m\u001b[0m\n\u001b[0;32m    879\u001b[0m         \u001b[0mJ\u001b[0m\u001b[1;33m,\u001b[0m \u001b[0md\u001b[0m \u001b[1;33m=\u001b[0m \u001b[0mself\u001b[0m\u001b[1;33m.\u001b[0m\u001b[0mtest_locs\u001b[0m\u001b[1;33m.\u001b[0m\u001b[0mshape\u001b[0m\u001b[1;33m\u001b[0m\u001b[0m\n",
      "\u001b[1;32m/nfs/nhome/live/wittawat/git/fotest/freqopttest/tst.pyc\u001b[0m in \u001b[0;36mcompute_stat\u001b[1;34m(self, tst_data)\u001b[0m\n\u001b[0;32m    892\u001b[0m         \u001b[0mtest_locs\u001b[0m \u001b[1;33m=\u001b[0m \u001b[0mself\u001b[0m\u001b[1;33m.\u001b[0m\u001b[0mtest_locs\u001b[0m\u001b[1;33m\u001b[0m\u001b[0m\n\u001b[0;32m    893\u001b[0m         \u001b[0mgamma\u001b[0m \u001b[1;33m=\u001b[0m \u001b[0mself\u001b[0m\u001b[1;33m.\u001b[0m\u001b[0mgaussian_width\u001b[0m\u001b[1;33m\u001b[0m\u001b[0m\n\u001b[1;32m--> 894\u001b[1;33m         \u001b[0mstat\u001b[0m \u001b[1;33m=\u001b[0m \u001b[0mMeanEmbeddingTest\u001b[0m\u001b[1;33m.\u001b[0m\u001b[0mcompute_nc_parameter\u001b[0m\u001b[1;33m(\u001b[0m\u001b[0mX\u001b[0m\u001b[1;33m,\u001b[0m \u001b[0mY\u001b[0m\u001b[1;33m,\u001b[0m \u001b[0mtest_locs\u001b[0m\u001b[1;33m,\u001b[0m \u001b[0mgamma\u001b[0m\u001b[1;33m)\u001b[0m\u001b[1;33m\u001b[0m\u001b[0m\n\u001b[0m\u001b[0;32m    895\u001b[0m         \u001b[1;32mreturn\u001b[0m \u001b[0mstat\u001b[0m\u001b[1;33m\u001b[0m\u001b[0m\n\u001b[0;32m    896\u001b[0m \u001b[1;33m\u001b[0m\u001b[0m\n",
      "\u001b[1;32m/nfs/nhome/live/wittawat/git/fotest/freqopttest/tst.pyc\u001b[0m in \u001b[0;36mcompute_nc_parameter\u001b[1;34m(X, Y, T, gwidth, reg)\u001b[0m\n\u001b[0;32m    923\u001b[0m         \u001b[0mh\u001b[0m \u001b[1;33m=\u001b[0m \u001b[0mMeanEmbeddingTest\u001b[0m\u001b[1;33m.\u001b[0m\u001b[0mgauss_kernel\u001b[0m\u001b[1;33m(\u001b[0m\u001b[0mY\u001b[0m\u001b[1;33m,\u001b[0m \u001b[0mT\u001b[0m\u001b[1;33m,\u001b[0m \u001b[0mgwidth\u001b[0m\u001b[1;33m)\u001b[0m\u001b[1;33m\u001b[0m\u001b[0m\n\u001b[0;32m    924\u001b[0m         \u001b[0mZ\u001b[0m \u001b[1;33m=\u001b[0m \u001b[0mg\u001b[0m\u001b[1;33m-\u001b[0m\u001b[0mh\u001b[0m\u001b[1;33m\u001b[0m\u001b[0m\n\u001b[1;32m--> 925\u001b[1;33m         \u001b[0ms\u001b[0m \u001b[1;33m=\u001b[0m \u001b[0mgeneric_nc_parameter\u001b[0m\u001b[1;33m(\u001b[0m\u001b[0mZ\u001b[0m\u001b[1;33m,\u001b[0m \u001b[0mreg\u001b[0m\u001b[1;33m)\u001b[0m\u001b[1;33m\u001b[0m\u001b[0m\n\u001b[0m\u001b[0;32m    926\u001b[0m         \u001b[1;32mreturn\u001b[0m \u001b[0ms\u001b[0m\u001b[1;33m\u001b[0m\u001b[0m\n\u001b[0;32m    927\u001b[0m \u001b[1;33m\u001b[0m\u001b[0m\n",
      "\u001b[1;32m/nfs/nhome/live/wittawat/git/fotest/freqopttest/tst.pyc\u001b[0m in \u001b[0;36mgeneric_nc_parameter\u001b[1;34m(Z, reg)\u001b[0m\n\u001b[0;32m   1167\u001b[0m         \u001b[1;31m# test statistic\u001b[0m\u001b[1;33m\u001b[0m\u001b[1;33m\u001b[0m\u001b[0m\n\u001b[0;32m   1168\u001b[0m         \u001b[1;32mtry\u001b[0m\u001b[1;33m:\u001b[0m\u001b[1;33m\u001b[0m\u001b[0m\n\u001b[1;32m-> 1169\u001b[1;33m             \u001b[0ms\u001b[0m \u001b[1;33m=\u001b[0m \u001b[0mn\u001b[0m\u001b[1;33m*\u001b[0m\u001b[0mnp\u001b[0m\u001b[1;33m.\u001b[0m\u001b[0mlinalg\u001b[0m\u001b[1;33m.\u001b[0m\u001b[0msolve\u001b[0m\u001b[1;33m(\u001b[0m\u001b[0mSig\u001b[0m \u001b[1;33m+\u001b[0m \u001b[0mreg\u001b[0m\u001b[1;33m*\u001b[0m\u001b[0mnp\u001b[0m\u001b[1;33m.\u001b[0m\u001b[0meye\u001b[0m\u001b[1;33m(\u001b[0m\u001b[0mSig\u001b[0m\u001b[1;33m.\u001b[0m\u001b[0mshape\u001b[0m\u001b[1;33m[\u001b[0m\u001b[1;36m0\u001b[0m\u001b[1;33m]\u001b[0m\u001b[1;33m)\u001b[0m\u001b[1;33m,\u001b[0m \u001b[0mW\u001b[0m\u001b[1;33m)\u001b[0m\u001b[1;33m.\u001b[0m\u001b[0mdot\u001b[0m\u001b[1;33m(\u001b[0m\u001b[0mW\u001b[0m\u001b[1;33m)\u001b[0m\u001b[1;33m\u001b[0m\u001b[0m\n\u001b[0m\u001b[0;32m   1170\u001b[0m         \u001b[1;32mexcept\u001b[0m \u001b[0mnp\u001b[0m\u001b[1;33m.\u001b[0m\u001b[0mlinalg\u001b[0m\u001b[1;33m.\u001b[0m\u001b[0mLinAlgError\u001b[0m\u001b[1;33m:\u001b[0m\u001b[1;33m\u001b[0m\u001b[0m\n\u001b[0;32m   1171\u001b[0m             \u001b[1;32mprint\u001b[0m\u001b[1;33m(\u001b[0m\u001b[1;34m'LinAlgError. Return -1 as the nc_parameter.'\u001b[0m\u001b[1;33m)\u001b[0m\u001b[1;33m\u001b[0m\u001b[0m\n",
      "\u001b[1;32m/nfs/nhome/live/wittawat/.local/lib/python2.7/site-packages/numpy/linalg/linalg.pyc\u001b[0m in \u001b[0;36msolve\u001b[1;34m(a, b)\u001b[0m\n\u001b[0;32m    382\u001b[0m     \u001b[0msignature\u001b[0m \u001b[1;33m=\u001b[0m \u001b[1;34m'DD->D'\u001b[0m \u001b[1;32mif\u001b[0m \u001b[0misComplexType\u001b[0m\u001b[1;33m(\u001b[0m\u001b[0mt\u001b[0m\u001b[1;33m)\u001b[0m \u001b[1;32melse\u001b[0m \u001b[1;34m'dd->d'\u001b[0m\u001b[1;33m\u001b[0m\u001b[0m\n\u001b[0;32m    383\u001b[0m     \u001b[0mextobj\u001b[0m \u001b[1;33m=\u001b[0m \u001b[0mget_linalg_error_extobj\u001b[0m\u001b[1;33m(\u001b[0m\u001b[0m_raise_linalgerror_singular\u001b[0m\u001b[1;33m)\u001b[0m\u001b[1;33m\u001b[0m\u001b[0m\n\u001b[1;32m--> 384\u001b[1;33m     \u001b[0mr\u001b[0m \u001b[1;33m=\u001b[0m \u001b[0mgufunc\u001b[0m\u001b[1;33m(\u001b[0m\u001b[0ma\u001b[0m\u001b[1;33m,\u001b[0m \u001b[0mb\u001b[0m\u001b[1;33m,\u001b[0m \u001b[0msignature\u001b[0m\u001b[1;33m=\u001b[0m\u001b[0msignature\u001b[0m\u001b[1;33m,\u001b[0m \u001b[0mextobj\u001b[0m\u001b[1;33m=\u001b[0m\u001b[0mextobj\u001b[0m\u001b[1;33m)\u001b[0m\u001b[1;33m\u001b[0m\u001b[0m\n\u001b[0m\u001b[0;32m    385\u001b[0m \u001b[1;33m\u001b[0m\u001b[0m\n\u001b[0;32m    386\u001b[0m     \u001b[1;32mreturn\u001b[0m \u001b[0mwrap\u001b[0m\u001b[1;33m(\u001b[0m\u001b[0mr\u001b[0m\u001b[1;33m.\u001b[0m\u001b[0mastype\u001b[0m\u001b[1;33m(\u001b[0m\u001b[0mresult_t\u001b[0m\u001b[1;33m,\u001b[0m \u001b[0mcopy\u001b[0m\u001b[1;33m=\u001b[0m\u001b[0mFalse\u001b[0m\u001b[1;33m)\u001b[0m\u001b[1;33m)\u001b[0m\u001b[1;33m\u001b[0m\u001b[0m\n",
      "\u001b[1;31mKeyboardInterrupt\u001b[0m: "
     ]
    }
   ],
   "source": [
    "eval_test_locs(T, ss, n=n, rep=100, seed_start=1, alpha=alpha)"
   ]
  },
  {
   "cell_type": "code",
   "execution_count": null,
   "metadata": {
    "collapsed": false,
    "scrolled": true
   },
   "outputs": [],
   "source": [
    "# plot one instance of the data in 2d.\n",
    "te = ss.sample(n, seed=seed)\n",
    "X, Y = te.xy()\n",
    "plt.plot(X[:, 0], X[:, 1], 'ob')\n",
    "plt.plot(Y[:, 0], Y[:, 1], 'or')"
   ]
  },
  {
   "cell_type": "code",
   "execution_count": null,
   "metadata": {
    "collapsed": false
   },
   "outputs": [],
   "source": []
  },
  {
   "cell_type": "code",
   "execution_count": null,
   "metadata": {
    "collapsed": true
   },
   "outputs": [],
   "source": []
  },
  {
   "cell_type": "code",
   "execution_count": null,
   "metadata": {
    "collapsed": true
   },
   "outputs": [],
   "source": []
  }
 ],
 "metadata": {
  "kernelspec": {
   "display_name": "Python 2",
   "language": "python",
   "name": "python2"
  },
  "language_info": {
   "codemirror_mode": {
    "name": "ipython",
    "version": 2
   },
   "file_extension": ".py",
   "mimetype": "text/x-python",
   "name": "python",
   "nbconvert_exporter": "python",
   "pygments_lexer": "ipython2",
   "version": "2.7.12"
  }
 },
 "nbformat": 4,
 "nbformat_minor": 0
}
