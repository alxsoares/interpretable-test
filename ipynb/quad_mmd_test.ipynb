{
 "cells": [
  {
   "cell_type": "markdown",
   "metadata": {},
   "source": [
    "A notebook to test quadratic MMD two-sample test"
   ]
  },
  {
   "cell_type": "code",
   "execution_count": null,
   "metadata": {
    "collapsed": false
   },
   "outputs": [],
   "source": [
    "%load_ext autoreload\n",
    "%autoreload 2\n",
    "%matplotlib inline\n",
    "import numpy as np\n",
    "import matplotlib.pyplot as plt\n",
    "import freqopttest.util as util\n",
    "import freqopttest.data as data\n",
    "import freqopttest.kernel as kernel\n",
    "import freqopttest.tst as tst\n",
    "import freqopttest.glo as glo\n",
    "import sys\n",
    "import time"
   ]
  },
  {
   "cell_type": "code",
   "execution_count": null,
   "metadata": {
    "collapsed": true
   },
   "outputs": [],
   "source": [
    "# sample source \n",
    "n = 20000\n",
    "dim = 1500\n",
    "seed = 14\n",
    "alpha = 0.01\n",
    "ss = data.SSGaussMeanDiff(dim, my=1)\n",
    "#ss = data.SSGaussVarDiff(dim)\n",
    "#ss = data.SSSameGauss(dim)\n",
    "#ss = data.SSBlobs()\n",
    "dim = ss.dim()\n",
    "tst_data = ss.sample(n, seed=seed)\n",
    "tr, te = tst_data.split_tr_te(tr_proportion=0.5, seed=10)"
   ]
  },
  {
   "cell_type": "markdown",
   "metadata": {},
   "source": [
    "## Test permutations"
   ]
  },
  {
   "cell_type": "code",
   "execution_count": null,
   "metadata": {
    "collapsed": true
   },
   "outputs": [],
   "source": [
    "xtr, ytr = tr.xy()\n",
    "xytr = tr.stack_xy()\n",
    "sig2 = util.meddistance(xytr, subsample=1000)\n",
    "k = kernel.KGauss(sig2)"
   ]
  },
  {
   "cell_type": "code",
   "execution_count": null,
   "metadata": {
    "collapsed": false,
    "scrolled": true
   },
   "outputs": [],
   "source": [
    "start = time.time()\n",
    "\n",
    "perm_mmds1 = tst.QuadMMDTest.permutation_list_mmd2(xtr, ytr, k, n_permute=20)\n",
    "\n",
    "end = time.time()\n",
    "print('permutations took: %.4f s'%(end-start))\n",
    "print('perm_mmds1', perm_mmds1)"
   ]
  },
  {
   "cell_type": "code",
   "execution_count": null,
   "metadata": {
    "collapsed": false
   },
   "outputs": [],
   "source": [
    "# test h1_mean_var\n",
    "start = time.time()\n",
    "mean, var = tst.QuadMMDTest.h1_mean_var(xtr, ytr, k, is_var_computed=True)\n",
    "end = time.time()\n",
    "print('h1_mean_var took: %.3f'%(end - start))\n",
    "print('mean: %.3g, var: %.3g'%(mean, var))"
   ]
  },
  {
   "cell_type": "code",
   "execution_count": null,
   "metadata": {
    "collapsed": false
   },
   "outputs": [],
   "source": [
    "# test h1_mean_var_gram\n",
    "start = time.time()\n",
    "Kx = k.eval(xtr, xtr)\n",
    "Ky = k.eval(ytr, ytr)\n",
    "Kxy = k.eval(xtr, ytr)\n",
    "mean, var = tst.QuadMMDTest.h1_mean_var_gram(Kx, Ky, Kxy, k, True)\n",
    "end = time.time()\n",
    "print('h1_mean_var took: %.3f'%(end - start))\n",
    "print('mean: %.3g, var: %.3g'%(mean, var))"
   ]
  },
  {
   "cell_type": "code",
   "execution_count": null,
   "metadata": {
    "collapsed": false
   },
   "outputs": [],
   "source": [
    "# choose the best parameter and perform a test with permutations\n",
    "med = util.meddistance(tr.stack_xy(), 1000)\n",
    "list_gwidth = np.hstack( ( (med**2) *(2.0**np.linspace(-4, 4, 40) ) ) )\n",
    "list_gwidth.sort()\n",
    "list_kernels = [kernel.KGauss(gw2) for gw2 in list_gwidth]\n",
    "\n",
    "# grid search to choose the best Gaussian width\n",
    "besti, powers = tst.QuadMMDTest.grid_search_kernel(tr, list_kernels, alpha)\n",
    "# perform test \n",
    "best_ker = list_kernels[besti]"
   ]
  },
  {
   "cell_type": "code",
   "execution_count": null,
   "metadata": {
    "collapsed": false
   },
   "outputs": [],
   "source": [
    "start = time.time()\n",
    "mmd_test = tst.QuadMMDTest(best_ker, n_permute=10, alpha=alpha)\n",
    "test_result = mmd_test.perform_test(te)\n",
    "end = time.time()\n",
    "print 'MMD test took: %s seconds'%(end-start)"
   ]
  },
  {
   "cell_type": "code",
   "execution_count": null,
   "metadata": {
    "collapsed": true
   },
   "outputs": [],
   "source": []
  }
 ],
 "metadata": {
  "kernelspec": {
   "display_name": "Python 2",
   "language": "python",
   "name": "python2"
  },
  "language_info": {
   "codemirror_mode": {
    "name": "ipython",
    "version": 2
   },
   "file_extension": ".py",
   "mimetype": "text/x-python",
   "name": "python",
   "nbconvert_exporter": "python",
   "pygments_lexer": "ipython2",
   "version": "2.7.12"
  }
 },
 "nbformat": 4,
 "nbformat_minor": 0
}
